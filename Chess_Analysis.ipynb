{
 "cells": [
  {
   "cell_type": "code",
   "execution_count": 47,
   "metadata": {},
   "outputs": [],
   "source": [
    "# import packages\n",
    "import matplotlib.pyplot as plt\n",
    "import pandas as pd"
   ]
  },
  {
   "cell_type": "code",
   "execution_count": 48,
   "metadata": {},
   "outputs": [],
   "source": [
    "# import data\n",
    "chess = pd.read_csv('chess.csv')"
   ]
  },
  {
   "cell_type": "code",
   "execution_count": 49,
   "metadata": {},
   "outputs": [
    {
     "data": {
      "text/html": [
       "<div>\n",
       "<style scoped>\n",
       "    .dataframe tbody tr th:only-of-type {\n",
       "        vertical-align: middle;\n",
       "    }\n",
       "\n",
       "    .dataframe tbody tr th {\n",
       "        vertical-align: top;\n",
       "    }\n",
       "\n",
       "    .dataframe thead th {\n",
       "        text-align: right;\n",
       "    }\n",
       "</style>\n",
       "<table border=\"1\" class=\"dataframe\">\n",
       "  <thead>\n",
       "    <tr style=\"text-align: right;\">\n",
       "      <th></th>\n",
       "      <th>time_control</th>\n",
       "      <th>end_time</th>\n",
       "      <th>rated</th>\n",
       "      <th>time_class</th>\n",
       "      <th>rules</th>\n",
       "      <th>gm_username</th>\n",
       "      <th>white_username</th>\n",
       "      <th>white_rating</th>\n",
       "      <th>white_result</th>\n",
       "      <th>black_username</th>\n",
       "      <th>black_rating</th>\n",
       "      <th>black_result</th>\n",
       "    </tr>\n",
       "  </thead>\n",
       "  <tbody>\n",
       "    <tr>\n",
       "      <th>0</th>\n",
       "      <td>300+1</td>\n",
       "      <td>2021-06-19 11:40:40</td>\n",
       "      <td>True</td>\n",
       "      <td>blitz</td>\n",
       "      <td>chess</td>\n",
       "      <td>123lt</td>\n",
       "      <td>vaishali2001</td>\n",
       "      <td>2658</td>\n",
       "      <td>win</td>\n",
       "      <td>123lt</td>\n",
       "      <td>2601</td>\n",
       "      <td>resigned</td>\n",
       "    </tr>\n",
       "    <tr>\n",
       "      <th>1</th>\n",
       "      <td>300+1</td>\n",
       "      <td>2021-06-19 11:50:06</td>\n",
       "      <td>True</td>\n",
       "      <td>blitz</td>\n",
       "      <td>chess</td>\n",
       "      <td>123lt</td>\n",
       "      <td>123lt</td>\n",
       "      <td>2627</td>\n",
       "      <td>win</td>\n",
       "      <td>vaishali2001</td>\n",
       "      <td>2649</td>\n",
       "      <td>resigned</td>\n",
       "    </tr>\n",
       "    <tr>\n",
       "      <th>2</th>\n",
       "      <td>300+1</td>\n",
       "      <td>2021-06-19 12:01:17</td>\n",
       "      <td>True</td>\n",
       "      <td>blitz</td>\n",
       "      <td>chess</td>\n",
       "      <td>123lt</td>\n",
       "      <td>vaishali2001</td>\n",
       "      <td>2641</td>\n",
       "      <td>timeout</td>\n",
       "      <td>123lt</td>\n",
       "      <td>2649</td>\n",
       "      <td>win</td>\n",
       "    </tr>\n",
       "    <tr>\n",
       "      <th>3</th>\n",
       "      <td>300+1</td>\n",
       "      <td>2021-06-19 12:13:05</td>\n",
       "      <td>True</td>\n",
       "      <td>blitz</td>\n",
       "      <td>chess</td>\n",
       "      <td>123lt</td>\n",
       "      <td>123lt</td>\n",
       "      <td>2629</td>\n",
       "      <td>timeout</td>\n",
       "      <td>vaishali2001</td>\n",
       "      <td>2649</td>\n",
       "      <td>win</td>\n",
       "    </tr>\n",
       "    <tr>\n",
       "      <th>4</th>\n",
       "      <td>300+1</td>\n",
       "      <td>2021-06-19 12:28:54</td>\n",
       "      <td>True</td>\n",
       "      <td>blitz</td>\n",
       "      <td>chess</td>\n",
       "      <td>123lt</td>\n",
       "      <td>vaishali2001</td>\n",
       "      <td>2657</td>\n",
       "      <td>win</td>\n",
       "      <td>123lt</td>\n",
       "      <td>2611</td>\n",
       "      <td>resigned</td>\n",
       "    </tr>\n",
       "  </tbody>\n",
       "</table>\n",
       "</div>"
      ],
      "text/plain": [
       "  time_control             end_time  rated time_class  rules gm_username  \\\n",
       "0        300+1  2021-06-19 11:40:40   True      blitz  chess       123lt   \n",
       "1        300+1  2021-06-19 11:50:06   True      blitz  chess       123lt   \n",
       "2        300+1  2021-06-19 12:01:17   True      blitz  chess       123lt   \n",
       "3        300+1  2021-06-19 12:13:05   True      blitz  chess       123lt   \n",
       "4        300+1  2021-06-19 12:28:54   True      blitz  chess       123lt   \n",
       "\n",
       "  white_username  white_rating white_result black_username  black_rating  \\\n",
       "0   vaishali2001          2658          win          123lt          2601   \n",
       "1          123lt          2627          win   vaishali2001          2649   \n",
       "2   vaishali2001          2641      timeout          123lt          2649   \n",
       "3          123lt          2629      timeout   vaishali2001          2649   \n",
       "4   vaishali2001          2657          win          123lt          2611   \n",
       "\n",
       "  black_result  \n",
       "0     resigned  \n",
       "1     resigned  \n",
       "2          win  \n",
       "3          win  \n",
       "4     resigned  "
      ]
     },
     "execution_count": 49,
     "metadata": {},
     "output_type": "execute_result"
    }
   ],
   "source": [
    "# analysze data \n",
    "chess.head()"
   ]
  },
  {
   "cell_type": "markdown",
   "metadata": {},
   "source": [
    "\n",
    "## Dataset Description\n",
    "The data contains information about all the games played by GM titled players on Chess.com in 2021.\n",
    "\n",
    "We have information about:\n",
    "- The time format\n",
    "- Game is rated\n",
    "- Rules adopted\n",
    "- Usernames of both players\n",
    "- Ratings for both players\n",
    "- Result\n",
    "\n",
    "Let's analyze each feature:\n",
    "\n"
   ]
  },
  {
   "cell_type": "code",
   "execution_count": 50,
   "metadata": {},
   "outputs": [
    {
     "data": {
      "text/plain": [
       "time_class\n",
       "blitz     599394\n",
       "bullet    238246\n",
       "rapid      18462\n",
       "daily       3268\n",
       "dtype: int64"
      ]
     },
     "execution_count": 50,
     "metadata": {},
     "output_type": "execute_result"
    }
   ],
   "source": [
    "# time format\n",
    "chess.value_counts('time_class')"
   ]
  },
  {
   "cell_type": "code",
   "execution_count": 51,
   "metadata": {},
   "outputs": [],
   "source": [
    "def make_pie_chart(df: pd.DataFrame, column: str, visual_params=None):\n",
    "    '''\n",
    "    df -----------------> dataset containing the data\n",
    "    column -------------> a column from df containing the data for the plot\n",
    "    visual_params ------> a list with:\n",
    "                          the explode parameter\n",
    "                          pctdistance\n",
    "                          labeldistance\n",
    "    '''\n",
    "    if visual_params is None:\n",
    "        percentages = list(df.value_counts(column) / sum(df.value_counts(column)) * 100)\n",
    "        percentages = ['{:.2f}%'.format(x) for x in percentages]\n",
    "\n",
    "        plt.pie(df.value_counts(column),\n",
    "                labels = df[column].unique(),\n",
    "                autopct='%.2f%%',\n",
    "                explode=[.2 for x in df[column].unique()],\n",
    "                pctdistance=1.3,\n",
    "                labeldistance=1.5\n",
    "        )\n",
    "\n",
    "        plt.show()\n",
    "    else:\n",
    "        assert len(visual_params) == 3, f'Incorrect number of parameters! {len(visual_params)} have been passed instead of 3'\n",
    "        percentages = list(df.value_counts(column) / sum(df.value_counts(column)) * 100)\n",
    "        percentages = ['{:.2f}%'.format(x) for x in percentages]\n",
    "\n",
    "        plt.pie(df.value_counts(column),\n",
    "                labels = df[column].unique(),\n",
    "                autopct='%.2f%%',\n",
    "                explode=[visual_params[0] for x in df[column].unique()],\n",
    "                pctdistance=visual_params[1],\n",
    "                labeldistance=visual_params[2]\n",
    "        )\n",
    "\n",
    "        plt.show()\n",
    "\n",
    "def make_histogram(data: list, bins: int = 10, freq: bool = True):\n",
    "    plt.hist(data, bins=bins, density=freq)\n",
    "    plt.show()"
   ]
  },
  {
   "cell_type": "code",
   "execution_count": 52,
   "metadata": {},
   "outputs": [
    {
     "data": {
      "image/png": "[encoded data removed]",
      "text/plain": [
       "<Figure size 432x288 with 1 Axes>"
      ]
     },
     "metadata": {},
     "output_type": "display_data"
    }
   ],
   "source": [
    "make_pie_chart(chess, 'time_class')"
   ]
  },
  {
   "cell_type": "markdown",
   "metadata": {},
   "source": [
    "Blitz (300s + 1s per move) is the most played format (69.75%) with a total amount of 599394 games played"
   ]
  },
  {
   "cell_type": "code",
   "execution_count": 53,
   "metadata": {},
   "outputs": [
    {
     "data": {
      "text/plain": [
       "rated\n",
       "True     813569\n",
       "False     45801\n",
       "dtype: int64"
      ]
     },
     "execution_count": 53,
     "metadata": {},
     "output_type": "execute_result"
    }
   ],
   "source": [
    "# game is rated\n",
    "chess.value_counts('rated')"
   ]
  },
  {
   "cell_type": "code",
   "execution_count": 54,
   "metadata": {},
   "outputs": [
    {
     "data": {
      "text/plain": [
       "{True: 94.67039808231613, False: 5.329601917683885}"
      ]
     },
     "execution_count": 54,
     "metadata": {},
     "output_type": "execute_result"
    }
   ],
   "source": [
    "rated_percentage = {is_rated: chess.loc[chess.rated==is_rated].shape[0] / chess.shape[0] * 100 for is_rated in chess.rated.unique()}\n",
    "rated_percentage"
   ]
  },
  {
   "cell_type": "markdown",
   "metadata": {},
   "source": [
    "~94.5% of the games were rated"
   ]
  },
  {
   "cell_type": "code",
   "execution_count": 55,
   "metadata": {},
   "outputs": [
    {
     "data": {
      "text/plain": [
       "rules\n",
       "chess            824464\n",
       "bughouse          28203\n",
       "chess960           4962\n",
       "oddschess           672\n",
       "crazyhouse          554\n",
       "threecheck          391\n",
       "kingofthehill       124\n",
       "dtype: int64"
      ]
     },
     "execution_count": 55,
     "metadata": {},
     "output_type": "execute_result"
    }
   ],
   "source": [
    "# rules adopted\n",
    "chess.value_counts('rules')"
   ]
  },
  {
   "cell_type": "code",
   "execution_count": 56,
   "metadata": {},
   "outputs": [
    {
     "data": {
      "text/plain": [
       "{'chess': 95.93818727672597,\n",
       " 'bughouse': 3.2818227306049783,\n",
       " 'chess960': 0.5773997230529342,\n",
       " 'oddschess': 0.07819681859967186,\n",
       " 'threecheck': 0.04549844653641621,\n",
       " 'kingofthehill': 0.014429174860653735,\n",
       " 'crazyhouse': 0.06446582961937233}"
      ]
     },
     "execution_count": 56,
     "metadata": {},
     "output_type": "execute_result"
    }
   ],
   "source": [
    "rules_percentage = {rule: chess.loc[chess.rules==rule].shape[0] / chess.shape[0] * 100 for rule in chess.rules.unique()}\n",
    "rules_percentage"
   ]
  },
  {
   "cell_type": "markdown",
   "metadata": {},
   "source": [
    "The majority of the games (~96%) were played under the regular chess rules"
   ]
  },
  {
   "cell_type": "code",
   "execution_count": 57,
   "metadata": {},
   "outputs": [],
   "source": [
    "# ratings\n",
    "players = {}\n",
    "for _, row in chess.iterrows():\n",
    "    player1 = row['white_username']\n",
    "    player1_rat = row['white_rating']\n",
    "    player2 = row['black_username']\n",
    "    player2_rat = row['black_rating']\n",
    "    if player1 not in players:\n",
    "        players[player1] = player1_rat\n",
    "    if player2 not in players:\n",
    "        players[player2] = player2_rat"
   ]
  },
  {
   "cell_type": "code",
   "execution_count": 58,
   "metadata": {},
   "outputs": [
    {
     "data": {
      "image/png": "[encoded data removed]",
      "text/plain": [
       "<Figure size 432x288 with 1 Axes>"
      ]
     },
     "metadata": {
      "needs_background": "light"
     },
     "output_type": "display_data"
    }
   ],
   "source": [
    "# let's have a look at the distribution of ratings\n",
    "scores = [x for x in players.values()]\n",
    "make_histogram(scores, 20, True)"
   ]
  },
  {
   "cell_type": "code",
   "execution_count": 59,
   "metadata": {},
   "outputs": [],
   "source": [
    "avg_rating = sum(scores) / len(scores)\n",
    "var_rating = sum([(x - avg_rating)**2 for x in scores]) / len(scores)"
   ]
  },
  {
   "cell_type": "code",
   "execution_count": 60,
   "metadata": {},
   "outputs": [],
   "source": [
    "def median(data):\n",
    "    data.sort()\n",
    "    if len(data) % 2 == 0:\n",
    "        return (data[len(data)/2]+data[len(data)/2-1])/2\n",
    "    return data[int(len(data)/2)]"
   ]
  },
  {
   "cell_type": "code",
   "execution_count": 61,
   "metadata": {},
   "outputs": [
    {
     "name": "stdout",
     "output_type": "stream",
     "text": [
      "Average rating = 1871.15\n",
      "Standard deviation = 585.75\n",
      "Max = 3500.00\n",
      "Min = 100.00\n",
      "Median = 2041.00\n"
     ]
    }
   ],
   "source": [
    "print('Average rating = {:.2f}\\nStandard deviation = {:.2f}\\nMax = {:.2f}\\nMin = {:.2f}\\nMedian = {:.2f}'.format(avg_rating, var_rating**.5, max(scores), min(scores), median(scores)))"
   ]
  },
  {
   "cell_type": "markdown",
   "metadata": {},
   "source": [
    "We have a right tailed distribution with mean 1871.15 and standard deviation 585.75. By comparing the minimun, maximum and median value we can say that the first half of ratings cover a much wider range going from 100 to 2041 while the second half peaks at 3500 "
   ]
  },
  {
   "cell_type": "code",
   "execution_count": 62,
   "metadata": {},
   "outputs": [
    {
     "data": {
      "text/plain": [
       "white_result\n",
       "win                    409809\n",
       "resigned               201052\n",
       "timeout                101316\n",
       "checkmated              60620\n",
       "repetition              31532\n",
       "agreed                  16073\n",
       "insufficient            13227\n",
       "timevsinsufficient      11863\n",
       "bughousepartnerlose      6440\n",
       "stalemate                4145\n",
       "abandoned                2883\n",
       "50move                    267\n",
       "threecheck                121\n",
       "kingofthehill              22\n",
       "dtype: int64"
      ]
     },
     "execution_count": 62,
     "metadata": {},
     "output_type": "execute_result"
    }
   ],
   "source": [
    "chess.value_counts('white_result')"
   ]
  },
  {
   "cell_type": "code",
   "execution_count": 63,
   "metadata": {},
   "outputs": [],
   "source": [
    "def synthetize_result(data: pd.DataFrame):\n",
    "    data['result'] = None\n",
    "    for i, row in data.iterrows():\n",
    "        if row['white_result'] in ['win']:\n",
    "            data.at[i, 'result'] = '1-0'\n",
    "        else:\n",
    "            if row['white_result'] in ['repetiion','agreed','insufficient','timevsinsufficient','stalemate','50move']:\n",
    "                data.at[i,'result'] = '1-1'\n",
    "            else:\n",
    "                data.at[i,'result'] = '0-1'"
   ]
  },
  {
   "cell_type": "code",
   "execution_count": 64,
   "metadata": {},
   "outputs": [],
   "source": [
    "# result\n",
    "# for this section we will limit the scope of the analysis to games played under regular chess rules\n",
    "chess = chess.loc[chess.rules=='chess']"
   ]
  },
  {
   "cell_type": "code",
   "execution_count": 65,
   "metadata": {},
   "outputs": [],
   "source": [
    "synthetize_result(chess)"
   ]
  },
  {
   "cell_type": "code",
   "execution_count": 66,
   "metadata": {},
   "outputs": [
    {
     "data": {
      "text/plain": [
       "result\n",
       "1-0    392661\n",
       "0-1    386597\n",
       "1-1     45206\n",
       "dtype: int64"
      ]
     },
     "execution_count": 66,
     "metadata": {},
     "output_type": "execute_result"
    }
   ],
   "source": [
    "chess.value_counts('result')"
   ]
  },
  {
   "cell_type": "code",
   "execution_count": 67,
   "metadata": {},
   "outputs": [
    {
     "data": {
      "image/png": "[encoded data removed]",
      "text/plain": [
       "<Figure size 432x288 with 1 Axes>"
      ]
     },
     "metadata": {},
     "output_type": "display_data"
    }
   ],
   "source": [
    "make_pie_chart(chess, 'result')"
   ]
  },
  {
   "cell_type": "code",
   "execution_count": 68,
   "metadata": {},
   "outputs": [
    {
     "name": "stdout",
     "output_type": "stream",
     "text": [
      "Bullet:\n",
      "{'1-0': '49.00%', '0-1': '46.92%', '1-1': '4.08%'}\n",
      "Blitz:\n",
      "{'1-0': '47.26%', '0-1': '47.00%', '1-1': '5.74%'}\n",
      "Rapid:\n",
      "{'1-0': '41.09%', '0-1': '43.70%', '1-1': '15.21%'}\n",
      "Daily:\n",
      "{'1-0': '47.11%', '0-1': '44.42%', '1-1': '8.47%'}\n"
     ]
    }
   ],
   "source": [
    "for time_format in ['bullet','blitz','rapid','daily']:\n",
    "    print(time_format.capitalize()+':')\n",
    "    results = {res : '{:.2f}%'.format(chess.loc[(chess.result==res)&(chess.time_class==time_format)].shape[0]/chess.loc[chess.time_class==time_format].shape[0] * 100) for res in chess.result.unique()}\n",
    "    print(results)"
   ]
  },
  {
   "cell_type": "markdown",
   "metadata": {},
   "source": [
    "It looks like as the time available grows draws occur more frequently. \n",
    "\n",
    "Interestingly, if we exclude Rapid, the white player seems to be more likely to win the game"
   ]
  },
  {
   "cell_type": "code",
   "execution_count": 69,
   "metadata": {},
   "outputs": [],
   "source": [
    "def update_personal_result(dictionary: dict, row: str, color: str):\n",
    "    if color == 'white':\n",
    "        if row['result'] == '1-0':\n",
    "            dictionary[row[color+'_username']]['won'] += 1\n",
    "            dictionary[row[color+'_username']]['won_white'] += 1\n",
    "        dictionary[row[color+'_username']]['played_white'] += 1\n",
    "    if color == 'black':\n",
    "        if row['result'] == '0-1':\n",
    "            dictionary[row[color+'_username']]['won'] += 1\n",
    "            dictionary[row[color+'_username']]['won_black'] += 1\n",
    "        dictionary[row[color+'_username']]['played_black'] += 1\n",
    "    dictionary[row[color+'_username']]['played'] += 1"
   ]
  },
  {
   "cell_type": "code",
   "execution_count": 70,
   "metadata": {},
   "outputs": [],
   "source": [
    "# top 5 players by win percentage\n",
    "players_results = {}\n",
    "\n",
    "for i, row in chess.iterrows():\n",
    "    if row['white_username'] not in players_results:\n",
    "        players_results[row['white_username']] = {'played':0,'won':0,'played_white':0,'won_white':0,'played_black':0,'won_black':0}\n",
    "        update_personal_result(players_results, row, 'white')\n",
    "    else:\n",
    "        update_personal_result(players_results, row, 'white')\n",
    "    if row['black_username'] not in players_results:\n",
    "        players_results[row['black_username']] = {'played':0,'won':0,'played_white':0,'won_white':0,'played_black':0,'won_black':0}\n",
    "        update_personal_result(players_results, row, 'black')\n",
    "    else:\n",
    "        update_personal_result(players_results, row, 'black')"
   ]
  },
  {
   "cell_type": "code",
   "execution_count": 71,
   "metadata": {},
   "outputs": [
    {
     "name": "stdout",
     "output_type": "stream",
     "text": [
      "('vaishali2001', {'played': 196, 'won': 57, 'played_white': 95, 'won_white': 26, 'played_black': 101, 'won_black': 31})\n",
      "('123lt', {'played': 129, 'won': 67, 'played_white': 65, 'won_white': 34, 'played_black': 64, 'won_black': 33})\n",
      "('GMStefanova', {'played': 101, 'won': 49, 'played_white': 52, 'won_white': 16, 'played_black': 49, 'won_black': 33})\n"
     ]
    }
   ],
   "source": [
    "for i, x in enumerate(players_results.items()):\n",
    "    if i < 3:\n",
    "        print(x)"
   ]
  },
  {
   "cell_type": "code",
   "execution_count": 74,
   "metadata": {},
   "outputs": [],
   "source": [
    "# top 10 players by total winning percentage\n",
    "top_players = sorted([{'username':player, '%':players_results[player]['won']/players_results[player]['played'] * 100,'played':players_results[player]['played']} for player in players_results],key=lambda x: x['%'], reverse=True)\n",
    "# filter by players with at least 50 games\n",
    "top_players = [_ for _ in top_players if _['played']>49]"
   ]
  },
  {
   "cell_type": "code",
   "execution_count": 90,
   "metadata": {},
   "outputs": [],
   "source": [
    "def print_top_k(data: list, k: int):\n",
    "    for entry in data[:k]:\n",
    "        print(\"Username: {} {} \\t Winning Percentage: {:.2f}\".format(entry['username'],''.join([' ' for i in range(17-len(entry['username']))]),entry['%']))\n",
    "    "
   ]
  },
  {
   "cell_type": "code",
   "execution_count": 91,
   "metadata": {},
   "outputs": [
    {
     "name": "stdout",
     "output_type": "stream",
     "text": [
      "Username: gmkomarov          \t Winning Percentage: 96.09\n",
      "Username: Illingworth        \t Winning Percentage: 95.59\n",
      "Username: K_GRIGORYAN        \t Winning Percentage: 95.38\n",
      "Username: sahpufjunior       \t Winning Percentage: 94.12\n",
      "Username: Medvegy            \t Winning Percentage: 93.83\n",
      "Username: GMHikaruOnTwitch   \t Winning Percentage: 93.76\n",
      "Username: JMB2010            \t Winning Percentage: 93.18\n",
      "Username: NotYetFinish       \t Winning Percentage: 92.81\n",
      "Username: Zubov_On_YouTube   \t Winning Percentage: 91.36\n",
      "Username: RLH2               \t Winning Percentage: 90.62\n"
     ]
    }
   ],
   "source": [
    "print_top_k(top_players,10)"
   ]
  },
  {
   "cell_type": "code",
   "execution_count": 93,
   "metadata": {},
   "outputs": [
    {
     "name": "stdout",
     "output_type": "stream",
     "text": [
      "Username: Illingworth        \t Winning Percentage: 95.97\n",
      "Username: GMHikaruOnTwitch   \t Winning Percentage: 94.15\n",
      "Username: K_GRIGORYAN        \t Winning Percentage: 93.08\n",
      "Username: JMB2010            \t Winning Percentage: 92.86\n",
      "Username: NotYetFinish       \t Winning Percentage: 92.49\n",
      "Username: chessdude          \t Winning Percentage: 91.07\n",
      "Username: sahpufjunior       \t Winning Percentage: 90.91\n",
      "Username: RLH2               \t Winning Percentage: 89.74\n",
      "Username: mironius           \t Winning Percentage: 87.34\n",
      "Username: lcfox              \t Winning Percentage: 87.27\n"
     ]
    }
   ],
   "source": [
    "# top 10 players by white winning percentage\n",
    "top_players_white = sorted([{'username':player, '%':players_results[player]['won_white']/max(1,players_results[player]['played_white']) * 100,'played':players_results[player]['played_white']} for player in players_results],key=lambda x: x['%'], reverse=True)\n",
    "# filter by players with at least 50 games\n",
    "top_players_white = [_ for _ in top_players_white if _['played']>49]\n",
    "\n",
    "print_top_k(top_players_white,10)"
   ]
  },
  {
   "cell_type": "code",
   "execution_count": 94,
   "metadata": {},
   "outputs": [
    {
     "name": "stdout",
     "output_type": "stream",
     "text": [
      "Username: gmkomarov          \t Winning Percentage: 97.44\n",
      "Username: K_GRIGORYAN        \t Winning Percentage: 97.11\n",
      "Username: sahpufjunior       \t Winning Percentage: 97.01\n",
      "Username: Zubov_On_YouTube   \t Winning Percentage: 96.30\n",
      "Username: Illingworth        \t Winning Percentage: 95.21\n",
      "Username: JMB2010            \t Winning Percentage: 93.52\n",
      "Username: GMHikaruOnTwitch   \t Winning Percentage: 93.37\n",
      "Username: NotYetFinish       \t Winning Percentage: 93.10\n",
      "Username: Medvegy            \t Winning Percentage: 92.45\n",
      "Username: RLH2               \t Winning Percentage: 91.46\n"
     ]
    }
   ],
   "source": [
    "# top 10 players by black winning percentage\n",
    "top_players_black = sorted([{'username':player, '%':players_results[player]['won_black']/max(1,players_results[player]['played_black']) * 100,'played':players_results[player]['played_black']} for player in players_results],key=lambda x: x['%'], reverse=True)\n",
    "# filter by players with at least 50 games\n",
    "top_players_black = [_ for _ in top_players_black if _['played']>49]\n",
    "\n",
    "print_top_k(top_players_black,10)"
   ]
  }
 ],
 "metadata": {
  "kernelspec": {
   "display_name": "Python 3.8.10 64-bit (microsoft store)",
   "language": "python",
   "name": "python3"
  },
  "language_info": {
   "codemirror_mode": {
    "name": "ipython",
    "version": 3
   },
   "file_extension": ".py",
   "mimetype": "text/x-python",
   "name": "python",
   "nbconvert_exporter": "python",
   "pygments_lexer": "ipython3",
   "version": "3.8.10"
  },
  "orig_nbformat": 4,
  "vscode": {
   "interpreter": {
    "hash": "e732c65ef80513d5498fa9cf3641841eb9c44494d1b384908f64d2cfebb22f36"
   }
  }
 },
 "nbformat": 4,
 "nbformat_minor": 2
}
