{
 "cells": [
  {
   "cell_type": "code",
   "execution_count": 5,
   "metadata": {},
   "outputs": [],
   "source": [
    "# import packages\n",
    "import matplotlib.pyplot as plt\n",
    "import pandas as pd"
   ]
  },
  {
   "cell_type": "code",
   "execution_count": 6,
   "metadata": {},
   "outputs": [],
   "source": [
    "# import data\n",
    "chess = pd.read_csv('chess.csv')"
   ]
  },
  {
   "cell_type": "code",
   "execution_count": 7,
   "metadata": {},
   "outputs": [
    {
     "data": {
      "text/html": [
       "<div>\n",
       "<style scoped>\n",
       "    .dataframe tbody tr th:only-of-type {\n",
       "        vertical-align: middle;\n",
       "    }\n",
       "\n",
       "    .dataframe tbody tr th {\n",
       "        vertical-align: top;\n",
       "    }\n",
       "\n",
       "    .dataframe thead th {\n",
       "        text-align: right;\n",
       "    }\n",
       "</style>\n",
       "<table border=\"1\" class=\"dataframe\">\n",
       "  <thead>\n",
       "    <tr style=\"text-align: right;\">\n",
       "      <th></th>\n",
       "      <th>time_control</th>\n",
       "      <th>end_time</th>\n",
       "      <th>rated</th>\n",
       "      <th>time_class</th>\n",
       "      <th>rules</th>\n",
       "      <th>gm_username</th>\n",
       "      <th>white_username</th>\n",
       "      <th>white_rating</th>\n",
       "      <th>white_result</th>\n",
       "      <th>black_username</th>\n",
       "      <th>black_rating</th>\n",
       "      <th>black_result</th>\n",
       "    </tr>\n",
       "  </thead>\n",
       "  <tbody>\n",
       "    <tr>\n",
       "      <th>0</th>\n",
       "      <td>300+1</td>\n",
       "      <td>2021-06-19 11:40:40</td>\n",
       "      <td>True</td>\n",
       "      <td>blitz</td>\n",
       "      <td>chess</td>\n",
       "      <td>123lt</td>\n",
       "      <td>vaishali2001</td>\n",
       "      <td>2658</td>\n",
       "      <td>win</td>\n",
       "      <td>123lt</td>\n",
       "      <td>2601</td>\n",
       "      <td>resigned</td>\n",
       "    </tr>\n",
       "    <tr>\n",
       "      <th>1</th>\n",
       "      <td>300+1</td>\n",
       "      <td>2021-06-19 11:50:06</td>\n",
       "      <td>True</td>\n",
       "      <td>blitz</td>\n",
       "      <td>chess</td>\n",
       "      <td>123lt</td>\n",
       "      <td>123lt</td>\n",
       "      <td>2627</td>\n",
       "      <td>win</td>\n",
       "      <td>vaishali2001</td>\n",
       "      <td>2649</td>\n",
       "      <td>resigned</td>\n",
       "    </tr>\n",
       "    <tr>\n",
       "      <th>2</th>\n",
       "      <td>300+1</td>\n",
       "      <td>2021-06-19 12:01:17</td>\n",
       "      <td>True</td>\n",
       "      <td>blitz</td>\n",
       "      <td>chess</td>\n",
       "      <td>123lt</td>\n",
       "      <td>vaishali2001</td>\n",
       "      <td>2641</td>\n",
       "      <td>timeout</td>\n",
       "      <td>123lt</td>\n",
       "      <td>2649</td>\n",
       "      <td>win</td>\n",
       "    </tr>\n",
       "    <tr>\n",
       "      <th>3</th>\n",
       "      <td>300+1</td>\n",
       "      <td>2021-06-19 12:13:05</td>\n",
       "      <td>True</td>\n",
       "      <td>blitz</td>\n",
       "      <td>chess</td>\n",
       "      <td>123lt</td>\n",
       "      <td>123lt</td>\n",
       "      <td>2629</td>\n",
       "      <td>timeout</td>\n",
       "      <td>vaishali2001</td>\n",
       "      <td>2649</td>\n",
       "      <td>win</td>\n",
       "    </tr>\n",
       "    <tr>\n",
       "      <th>4</th>\n",
       "      <td>300+1</td>\n",
       "      <td>2021-06-19 12:28:54</td>\n",
       "      <td>True</td>\n",
       "      <td>blitz</td>\n",
       "      <td>chess</td>\n",
       "      <td>123lt</td>\n",
       "      <td>vaishali2001</td>\n",
       "      <td>2657</td>\n",
       "      <td>win</td>\n",
       "      <td>123lt</td>\n",
       "      <td>2611</td>\n",
       "      <td>resigned</td>\n",
       "    </tr>\n",
       "  </tbody>\n",
       "</table>\n",
       "</div>"
      ],
      "text/plain": [
       "  time_control             end_time  rated time_class  rules gm_username  \\\n",
       "0        300+1  2021-06-19 11:40:40   True      blitz  chess       123lt   \n",
       "1        300+1  2021-06-19 11:50:06   True      blitz  chess       123lt   \n",
       "2        300+1  2021-06-19 12:01:17   True      blitz  chess       123lt   \n",
       "3        300+1  2021-06-19 12:13:05   True      blitz  chess       123lt   \n",
       "4        300+1  2021-06-19 12:28:54   True      blitz  chess       123lt   \n",
       "\n",
       "  white_username  white_rating white_result black_username  black_rating  \\\n",
       "0   vaishali2001          2658          win          123lt          2601   \n",
       "1          123lt          2627          win   vaishali2001          2649   \n",
       "2   vaishali2001          2641      timeout          123lt          2649   \n",
       "3          123lt          2629      timeout   vaishali2001          2649   \n",
       "4   vaishali2001          2657          win          123lt          2611   \n",
       "\n",
       "  black_result  \n",
       "0     resigned  \n",
       "1     resigned  \n",
       "2          win  \n",
       "3          win  \n",
       "4     resigned  "
      ]
     },
     "execution_count": 7,
     "metadata": {},
     "output_type": "execute_result"
    }
   ],
   "source": [
    "# analysze data \n",
    "chess.head()"
   ]
  },
  {
   "cell_type": "markdown",
   "metadata": {},
   "source": [
    "\n",
    "## Dataset Description\n",
    "The data contains information about all the games played by GM titled players on Chess.com in 2021.\n",
    "\n",
    "We have information about:\n",
    "- The time format\n",
    "- Game is rated\n",
    "- Rules adopted\n",
    "- Usernames of both players\n",
    "- Ratings for both players\n",
    "- Result\n",
    "\n",
    "Let's analyze each feature:\n",
    "\n"
   ]
  },
  {
   "cell_type": "code",
   "execution_count": null,
   "metadata": {},
   "outputs": [],
   "source": []
  },
  {
   "cell_type": "code",
   "execution_count": 8,
   "metadata": {},
   "outputs": [
    {
     "data": {
      "text/plain": [
       "time_class\n",
       "blitz     599394\n",
       "bullet    238246\n",
       "rapid      18462\n",
       "daily       3268\n",
       "dtype: int64"
      ]
     },
     "execution_count": 8,
     "metadata": {},
     "output_type": "execute_result"
    }
   ],
   "source": [
    "# time format\n",
    "chess.value_counts('time_class')"
   ]
  },
  {
   "cell_type": "code",
   "execution_count": 9,
   "metadata": {},
   "outputs": [],
   "source": [
    "def make_pie_chart(df: pd.DataFrame, column: str, visual_params=None):\n",
    "    '''\n",
    "    df -----------------> dataset containing the data\n",
    "    column -------------> a column from df containing the data for the plot\n",
    "    visual_params ------> a list with:\n",
    "                          the explode parameter\n",
    "                          pctdistance\n",
    "                          labeldistance\n",
    "    '''\n",
    "    if visual_params is None:\n",
    "        percentages = list(df.value_counts(column) / sum(df.value_counts(column)) * 100)\n",
    "        percentages = ['{:.2f}%'.format(x) for x in percentages]\n",
    "\n",
    "        plt.pie(df.value_counts(column),\n",
    "                labels = df[column].unique(),\n",
    "                autopct='%.2f%%',\n",
    "                explode=[.2 for x in df[column].unique()],\n",
    "                pctdistance=1.3,\n",
    "                labeldistance=1.5\n",
    "        )\n",
    "\n",
    "        plt.show()\n",
    "    else:\n",
    "        assert len(visual_params) == 3, f'Incorrect number of parameters! {len(visual_params)} have been passed instead of 3'\n",
    "        percentages = list(df.value_counts(column) / sum(df.value_counts(column)) * 100)\n",
    "        percentages = ['{:.2f}%'.format(x) for x in percentages]\n",
    "\n",
    "        plt.pie(df.value_counts(column),\n",
    "                labels = df[column].unique(),\n",
    "                autopct='%.2f%%',\n",
    "                explode=[visual_params[0] for x in df[column].unique()],\n",
    "                pctdistance=visual_params[1],\n",
    "                labeldistance=visual_params[2]\n",
    "        )\n",
    "\n",
    "        plt.show()\n"
   ]
  },
  {
   "cell_type": "code",
   "execution_count": 10,
   "metadata": {},
   "outputs": [
    {
     "data": {
      "image/png": "[encoded data removed]",
      "text/plain": [
       "<Figure size 432x288 with 1 Axes>"
      ]
     },
     "metadata": {},
     "output_type": "display_data"
    }
   ],
   "source": [
    "make_pie_chart(chess, 'time_class')"
   ]
  },
  {
   "cell_type": "markdown",
   "metadata": {},
   "source": [
    "Blitz (300s + 1s per move) is the most played format (69.75%) with a total amount of 599394 games played"
   ]
  },
  {
   "cell_type": "code",
   "execution_count": 11,
   "metadata": {},
   "outputs": [
    {
     "data": {
      "text/plain": [
       "rated\n",
       "True     813569\n",
       "False     45801\n",
       "dtype: int64"
      ]
     },
     "execution_count": 11,
     "metadata": {},
     "output_type": "execute_result"
    }
   ],
   "source": [
    "# game is rated\n",
    "chess.value_counts('rated')"
   ]
  },
  {
   "cell_type": "code",
   "execution_count": 12,
   "metadata": {},
   "outputs": [
    {
     "data": {
      "text/plain": [
       "{True: 94.67039808231613, False: 5.329601917683885}"
      ]
     },
     "execution_count": 12,
     "metadata": {},
     "output_type": "execute_result"
    }
   ],
   "source": [
    "rated_percentage = {is_rated: chess.loc[chess.rated==is_rated].shape[0] / chess.shape[0] * 100 for is_rated in chess.rated.unique()}\n",
    "rated_percentage"
   ]
  },
  {
   "cell_type": "markdown",
   "metadata": {},
   "source": [
    "~94.5% of the games were rated"
   ]
  },
  {
   "cell_type": "code",
   "execution_count": 13,
   "metadata": {},
   "outputs": [
    {
     "data": {
      "text/plain": [
       "rules\n",
       "chess            824464\n",
       "bughouse          28203\n",
       "chess960           4962\n",
       "oddschess           672\n",
       "crazyhouse          554\n",
       "threecheck          391\n",
       "kingofthehill       124\n",
       "dtype: int64"
      ]
     },
     "execution_count": 13,
     "metadata": {},
     "output_type": "execute_result"
    }
   ],
   "source": [
    "# rules adopted\n",
    "chess.value_counts('rules')"
   ]
  },
  {
   "cell_type": "code",
   "execution_count": 14,
   "metadata": {},
   "outputs": [
    {
     "data": {
      "text/plain": [
       "{'chess': 95.93818727672597,\n",
       " 'bughouse': 3.2818227306049783,\n",
       " 'chess960': 0.5773997230529342,\n",
       " 'oddschess': 0.07819681859967186,\n",
       " 'threecheck': 0.04549844653641621,\n",
       " 'kingofthehill': 0.014429174860653735,\n",
       " 'crazyhouse': 0.06446582961937233}"
      ]
     },
     "execution_count": 14,
     "metadata": {},
     "output_type": "execute_result"
    }
   ],
   "source": [
    "rules_percentage = {rule: chess.loc[chess.rules==rule].shape[0] / chess.shape[0] * 100 for rule in chess.rules.unique()}\n",
    "rules_percentage"
   ]
  },
  {
   "cell_type": "markdown",
   "metadata": {},
   "source": [
    "The majority of the games (~96%) were played under the regular chess rules"
   ]
  }
 ],
 "metadata": {
  "kernelspec": {
   "display_name": "Python 3.8.10 64-bit (microsoft store)",
   "language": "python",
   "name": "python3"
  },
  "language_info": {
   "codemirror_mode": {
    "name": "ipython",
    "version": 3
   },
   "file_extension": ".py",
   "mimetype": "text/x-python",
   "name": "python",
   "nbconvert_exporter": "python",
   "pygments_lexer": "ipython3",
   "version": "3.8.10"
  },
  "orig_nbformat": 4,
  "vscode": {
   "interpreter": {
    "hash": "e732c65ef80513d5498fa9cf3641841eb9c44494d1b384908f64d2cfebb22f36"
   }
  }
 },
 "nbformat": 4,
 "nbformat_minor": 2
}
